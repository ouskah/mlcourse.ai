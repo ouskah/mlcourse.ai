{
 "cells": [
  {
   "cell_type": "markdown",
   "metadata": {},
   "source": [
    "<center>\n",
    "    \n",
    "## [mlcourse.ai](https://mlcourse.ai) – Open Machine Learning Course \n",
    "Author: [Yury Kashnitsky](https://yorko.github.io) (@yorko). Edited by Roman Volykhin (@GerrBert). This material is subject to the terms and conditions of the [Creative Commons CC BY-NC-SA 4.0](https://creativecommons.org/licenses/by-nc-sa/4.0/) license. Free use is permitted for any non-commercial purpose"
   ]
  },
  {
   "cell_type": "markdown",
   "metadata": {},
   "source": [
    "\n",
    "# <center> Fall 2019. Quiz 1. Decision trees and Random Forests\n",
    "    \n",
    "Prior to working on the assignment, you'd better check out the corresponding course material:\n",
    "\n",
    " 1. [Classification, Decision Trees and k Nearest Neighbors](https://mlcourse.ai/articles/topic3-dt-knn/), the same as an interactive web-based [Kaggle Kernel](https://www.kaggle.com/kashnitsky/topic-3-decision-trees-and-knn) \n",
    " 1. Ensembles:\n",
    "  - [Bagging](https://mlcourse.ai/articles/topic5-part1-bagging/), the same as a [Kaggle Kernel](https://www.kaggle.com/kashnitsky/topic-5-ensembles-part-1-bagging)\n",
    "  - [Random Forest](https://mlcourse.ai/articles/topic5-part2-rf/), the same as a [Kaggle Kernel](https://www.kaggle.com/kashnitsky/topic-5-ensembles-part-2-random-forest)\n",
    "  - [Feature Importance](https://mlcourse.ai/articles/topic5-part3-feature-importance/), the same as a [Kaggle Kernel](https://www.kaggle.com/kashnitsky/topic-5-ensembles-part-3-feature-importance)\n",
    " 1. There are 5 video lectures on trees, forests and their applications: [mlcourse.ai/lectures](https://mlcourse.ai/lectures) \n",
    "  \n",
    "We suggest that you first read the articles (quiz questions are based on them), if something is not clear - watch thr corresponding lecture. \n",
    " \n",
    "### Your task is to:\n",
    " 1. study the materials \n",
    " 1. write code where needed\n",
    " 1. choose answers in the [webform](https://docs.google.com/forms/d/1eT1niiuyFvmpYjL5rY6wRplocoqUHdeCTd6jAa_vsrk). \n",
    "\n",
    " \n",
    "### <center> Deadline for Quiz: 2019 September 27, 20:59 CET (London time)\n",
    "    \n",
    "Solutions will be discussed during a live YouTube session on September 28. You can get up to 10 credits (those points in a web-form, 15 max, will be scaled to a max of 10 credits). "
   ]
  },
  {
   "cell_type": "code",
   "execution_count": 16,
   "metadata": {},
   "outputs": [],
   "source": [
    "from sklearn import datasets\n",
    "import pandas as pd\n",
    "from sklearn.tree import DecisionTreeClassifier\n",
    "import math"
   ]
  },
  {
   "cell_type": "markdown",
   "metadata": {},
   "source": [
    "## Part 1. Decision trees\n",
    "\n",
    "*For discussions, please stick to [ODS Slack](https://opendatascience.slack.com/), channel __#mlcourse_ai_news__, pinned thread __#quiz1\\_fall2019__*\n",
    "\n",
    "**Question 1**. Which of these problems does not fall into 3 main types of ML tasks: classification, regression, and clustering?\n",
    " 1. Identifying a topic of a live-chat with a customer\n",
    " 1. Grouping news into topics\n",
    " 1. Predicting LTV (Life-Time Value) - the amount of money spent by a customer in a certain large period of time\n",
    " 1. Listing top products that a user is prone to buy (based on his/her click history)"
   ]
  },
  {
   "cell_type": "markdown",
   "metadata": {},
   "source": [
    "**Question 2**. Maximal possible entropy is achieved when all states are equally probable (prove it yourself for a system with 2 states with probabilities $p$ and $1-p$). What's the maximal possible entropy of a system with N states? (here all logs are with base 2)\n",
    " 1. $N \\log N$\n",
    " 1. $-\\log N$\n",
    " 1. $\\log N$\n",
    " 1. $-N \\log N$"
   ]
  },
  {
   "cell_type": "code",
   "execution_count": 2,
   "metadata": {},
   "outputs": [
    {
     "data": {
      "text/plain": [
       "3"
      ]
     },
     "execution_count": 2,
     "metadata": {},
     "output_type": "execute_result"
    }
   ],
   "source": [
    "3"
   ]
  },
  {
   "cell_type": "markdown",
   "metadata": {},
   "source": [
    "**Question 3**. In Topic 3 article, toy example with 20 balls, what's the information gain of splitting 20 balls in 2 groups based on the condition X <= 8?\n",
    "\n",
    " 1. ~ 0.1\n",
    " 1. ~ 0.01\n",
    " 1. ~ 0.001\n",
    " 1. ~ 0.0001"
   ]
  },
  {
   "cell_type": "code",
   "execution_count": 47,
   "metadata": {},
   "outputs": [
    {
     "name": "stdout",
     "output_type": "stream",
     "text": [
      "p = 9 / 20\n",
      "log{2}{p} = -1.15200309344505\n",
      "p = 11 / 20\n",
      "log{2}{p} = -0.8624964762500651\n",
      "0.99277445 0.9927744539878084\n",
      "p = 4 / 9\n",
      "log{2}{p} = -1.1699250014423124\n",
      "p = 5 / 9\n",
      "log{2}{p} = -0.84799690655495\n",
      "p = 5 / 11\n",
      "log{2}{p} = -1.137503523749935\n",
      "p = 6 / 11\n",
      "log{2}{p} = -0.8744691179161412\n"
     ]
    },
    {
     "data": {
      "text/plain": [
       "0.0001"
      ]
     },
     "execution_count": 47,
     "metadata": {},
     "output_type": "execute_result"
    }
   ],
   "source": [
    "balls = np.array((1, 0, 0, 0, 0, 1, 1, 1, 1, 0, 0, 0, 0, 1, 1, 1, 1, 1, 1, 0))\n",
    "\n",
    "def get_entropy(features):\n",
    "    entropy = 0\n",
    "    uniq_values = np.unique(balls)\n",
    "    for i in uniq_values:\n",
    "        print('p =', len(tuple(filter(lambda x: x == i, features))), '/', len(features))\n",
    "        p = len(tuple(filter(lambda x: x == i, features))) / len(features)\n",
    "        print('log{2}{p} =', math.log(p, 2))\n",
    "        entropy += p * math.log(p, 2)\n",
    "    return -entropy\n",
    "\n",
    "def get_information_gain(features, pivot):\n",
    "    left_subset = features[: pivot + 1]\n",
    "    right_subset = features[pivot + 1 :]\n",
    "    ig = 0.99277445\n",
    "#     print(ig, get_entropy(features))\n",
    "    for subset in (left_subset, right_subset):\n",
    "        ig -= len(subset) / len(features) * get_entropy(subset)\n",
    "    return round(ig, 4)\n",
    "2\n",
    "# get_entropy(balls)\n",
    "get_information_gain(balls, 8)\n"
   ]
  },
  {
   "cell_type": "code",
   "execution_count": 63,
   "metadata": {},
   "outputs": [
    {
     "data": {
      "text/plain": [
       "'0.0001'"
      ]
     },
     "execution_count": 63,
     "metadata": {},
     "output_type": "execute_result"
    }
   ],
   "source": [
    "s0 = (((9 / 20) * math.log((9 / 20), 2)) + ((11 / 20) * math.log((11 / 20), 2))) * -1\n",
    "s1 = (((5 / 9) * math.log((5 / 9), 2)) + ((4 / 9) * math.log((4 / 9), 2))) * -1\n",
    "s2 = (((6 / 11) * math.log((6 / 11), 2)) + ((5 / 11) * math.log((5 / 11), 2))) * -1\n",
    "(s1, s2)\n",
    "ig = s0 - (((9 / 20) * s1) + ((11 / 20) * s2))\n",
    "'{:.4f}'.format(ig)"
   ]
  },
  {
   "cell_type": "markdown",
   "metadata": {},
   "source": [
    "**Question 4.** In a toy binary classification task, there are $d$ features $x_1 \\ldots x_d$, but target $y$ depends only on $x_1$ and $x_2$: $y = [\\frac{x_1^2}{4} + \\frac{x_2^2}{9} \\leq 16]$, where $[\\cdot]$ is an indicator function. All of features $x_3 \\ldots x_d$ are noisy, i.e. do not influence the target feature at all. Obviously, machine learning algorithms shall perform almost perfectly in this task, where target is a simple function of input features. If we train sklearn's `DecisionTreeClassifier` for this task, which parameters have crucial effect on accuracy (crucial - meaning that if these parameters are set incorrectly, then accuracy can drop significantly)? Select all that apply (to get credits, you need to select all that apply, no partially correct answers).\n",
    " 1. `max_features`\n",
    " 1. `criterion`\n",
    " 1. `min_samples_leaf`\n",
    " 1. `max_depth`"
   ]
  },
  {
   "cell_type": "code",
   "execution_count": 4,
   "metadata": {},
   "outputs": [
    {
     "name": "stdout",
     "output_type": "stream",
     "text": [
      "1    790\n",
      "0    710\n",
      "Name: target, dtype: int64\n"
     ]
    }
   ],
   "source": [
    "import numpy as np\n",
    "from sklearn.metrics import accuracy_score\n",
    "\n",
    "# test set\n",
    "df1 = pd.DataFrame(np.random.rand(500, 50) * 12)\n",
    "df1['target'] = (df1[0] ** 2) / 4 + (df1[1] ** 2) / 9 <= 16\n",
    "df1['target'] = df1['target'].astype('int64')\n",
    "\n",
    "# train set\n",
    "df = pd.DataFrame(np.random.rand(1500, 50) * 12)\n",
    "df['target'] = (df[0] ** 2) / 4 + (df[1] ** 2) / 9 <= 16\n",
    "df['target'] = df['target'].astype('int64')\n",
    "\n",
    "# target distribution\n",
    "print(df['target'].value_counts())"
   ]
  },
  {
   "cell_type": "code",
   "execution_count": 5,
   "metadata": {},
   "outputs": [
    {
     "name": "stdout",
     "output_type": "stream",
     "text": [
      "0.952\n"
     ]
    },
    {
     "data": {
      "text/html": [
       "<div>\n",
       "<style scoped>\n",
       "    .dataframe tbody tr th:only-of-type {\n",
       "        vertical-align: middle;\n",
       "    }\n",
       "\n",
       "    .dataframe tbody tr th {\n",
       "        vertical-align: top;\n",
       "    }\n",
       "\n",
       "    .dataframe thead th {\n",
       "        text-align: right;\n",
       "    }\n",
       "</style>\n",
       "<table border=\"1\" class=\"dataframe\">\n",
       "  <thead>\n",
       "    <tr style=\"text-align: right;\">\n",
       "      <th></th>\n",
       "      <th>features</th>\n",
       "      <th>weight</th>\n",
       "    </tr>\n",
       "  </thead>\n",
       "  <tbody>\n",
       "    <tr>\n",
       "      <th>0</th>\n",
       "      <td>0</td>\n",
       "      <td>0.737211</td>\n",
       "    </tr>\n",
       "    <tr>\n",
       "      <th>1</th>\n",
       "      <td>1</td>\n",
       "      <td>0.207393</td>\n",
       "    </tr>\n",
       "    <tr>\n",
       "      <th>2</th>\n",
       "      <td>2</td>\n",
       "      <td>0.000000</td>\n",
       "    </tr>\n",
       "    <tr>\n",
       "      <th>3</th>\n",
       "      <td>3</td>\n",
       "      <td>0.000000</td>\n",
       "    </tr>\n",
       "    <tr>\n",
       "      <th>4</th>\n",
       "      <td>4</td>\n",
       "      <td>0.000000</td>\n",
       "    </tr>\n",
       "  </tbody>\n",
       "</table>\n",
       "</div>"
      ],
      "text/plain": [
       "   features    weight\n",
       "0         0  0.737211\n",
       "1         1  0.207393\n",
       "2         2  0.000000\n",
       "3         3  0.000000\n",
       "4         4  0.000000"
      ]
     },
     "execution_count": 5,
     "metadata": {},
     "output_type": "execute_result"
    }
   ],
   "source": [
    "# init and fit tree\n",
    "clf = DecisionTreeClassifier(random_state=42)\n",
    "clf.fit(df.drop(columns=['target']), df['target'])\n",
    "\n",
    "# predict and display importances of weights\n",
    "y_pred = clf.predict(df1.drop(columns=['target']))\n",
    "y_true = df1['target']\n",
    "print(accuracy_score(y_true, y_pred))\n",
    "feature_importance = list(zip(df.columns[:-1], clf.feature_importances_))\n",
    "feature_importance_df = pd.DataFrame(feature_importance, columns=['features', 'weight'])\n",
    "feature_importance_df.head()"
   ]
  },
  {
   "cell_type": "markdown",
   "metadata": {},
   "source": [
    "**Question 5.** Load iris data with `sklearn.datasets.load_iris`. Train a decision tree with this data, specifying params `max_depth`=4 and `random_state`=17 (all other arguments shall be left unchanged). Use all available 150 instances to train a tree (do not perform train/validation split). Visualize the fitted decision tree, see topic 3 for examples. Let's call a leaf in a tree _pure_ if it contains instances of only one class. How many pure leaves are there in this tree?\n",
    "\n",
    " 1. 6\n",
    " 1. 7\n",
    " 1. 8\n",
    " 1. 9\n"
   ]
  },
  {
   "cell_type": "code",
   "execution_count": 6,
   "metadata": {},
   "outputs": [],
   "source": [
    "iris = datasets.load_iris()\n",
    "iris_df = pd.DataFrame(iris.data, columns=iris.feature_names)\n",
    "clf_tree = DecisionTreeClassifier(random_state=17, max_depth=4)\n",
    "clf_tree.fit(iris.data, iris.target);"
   ]
  },
  {
   "cell_type": "code",
   "execution_count": 7,
   "metadata": {},
   "outputs": [],
   "source": [
    "from sklearn.tree import export_graphviz\n",
    "\n",
    "export_graphviz(clf_tree, feature_names=iris.feature_names, \n",
    "out_file='./small_tree.dot', filled=True)\n",
    "!dot -Tpng './small_tree.dot' -o './small_tree.png'"
   ]
  },
  {
   "cell_type": "markdown",
   "metadata": {},
   "source": [
    "<img src='./small_tree.png'></img>"
   ]
  },
  {
   "cell_type": "code",
   "execution_count": 8,
   "metadata": {},
   "outputs": [
    {
     "name": "stdout",
     "output_type": "stream",
     "text": [
      "answer = 7\n"
     ]
    }
   ],
   "source": [
    "print('answer = {}'.format(7))"
   ]
  },
  {
   "cell_type": "markdown",
   "metadata": {},
   "source": [
    "## Part 2. Ensembles and Random Forest\n",
    "\n",
    "*For discussions, please stick to [ODS Slack](https://opendatascience.slack.com/), channel __#mlcourse_ai_news__, pinned thread __#quiz1\\_fall2019__*"
   ]
  },
  {
   "cell_type": "markdown",
   "metadata": {},
   "source": [
    "**Question 6.** There are 7 jurors in the courtroom. Each of them individually can correctly determine whether the defendant is guilty or not with 80% probability. How likely is the jury will make a correct verdict jointly if the decision is made by majority voting?\n",
    "\n",
    "\n",
    "\n",
    " 1. 20.97%\n",
    " 1. 80.00%\n",
    " 1. 83.70%\n",
    " 1. 96.66%"
   ]
  },
  {
   "cell_type": "code",
   "execution_count": 9,
   "metadata": {},
   "outputs": [
    {
     "data": {
      "text/plain": [
       "96.6656"
      ]
     },
     "execution_count": 9,
     "metadata": {},
     "output_type": "execute_result"
    }
   ],
   "source": [
    "from scipy.special import comb\n",
    "import math\n",
    "\n",
    "N = 7\n",
    "p = 0.8\n",
    "m = math.floor(N / 2) + 1\n",
    "mu = 0\n",
    "for i in range(m, 8):\n",
    "    mu += comb(N, i) * (p ** i) * ((1 - p) ** (N - i))\n",
    "round(mu * 100, 4)"
   ]
  },
  {
   "cell_type": "markdown",
   "metadata": {},
   "source": [
    "**Question 7.** In [Topic 5, part 2](https://mlcourse.ai/articles/topic5-part2-rf/), section 2. \"Comparison with Decision Trees and Bagging\" we show how bagging and Random Forest improve classification accuracy as compared to a single decision tree. Which of the following is a better explanation of the visual difference between decision boundaries built by a single desicion tree and those built by ensemble models?\n",
    "\n",
    " 1. Ensembles ignore some of the features. Thus picking only important ones, they build a smoother decision boundary \n",
    " 1. Some of the classification rules built by a decision tree can be applied only to a small number of training instances\n",
    " 1. When fitting a decision tree, if two potential splits are equally good in terms of information criterion, then a random split is chosen. This leads to some randomness in building a decision tree. Therefore its decision boundary is so jagged"
   ]
  },
  {
   "cell_type": "markdown",
   "metadata": {},
   "source": [
    "**Question 8.** Random Forest learns a coefficient for each input feature, which shows how much this feature influences the target feature. True/False?\n",
    " 1. True\n",
    " 1. False\n",
    "\n",
    "**Question 9.** Suppose we fit `RandomForestRegressor` to predict age of a customer (a real task actually, good for targeting ads), and the maximal age seen in the dataset is 98 years. Is it possible that for some customer in future the model predicts his/her age to be 105 years?\n",
    " 1. Yes\n",
    " 1. No\n",
    " \n",
    "**Question 10.** Select all statements supporting advantages of Random Forest over decision trees (some statements might be true but not about Random Forest's pros, don't select those).\n",
    "\n",
    " 1. Random Forest is easier to train in terms of computational resources\n",
    " 1. Random Forest typically requires more RAM than a single decision tree \n",
    " 1. Random Forest typically achieves better metrics in classification/regression tasks\n",
    " 1. Single decision tree's prediction can be much easier interpreted"
   ]
  }
 ],
 "metadata": {
  "kernelspec": {
   "display_name": "Python 3",
   "language": "python",
   "name": "python3"
  },
  "language_info": {
   "codemirror_mode": {
    "name": "ipython",
    "version": 3
   },
   "file_extension": ".py",
   "mimetype": "text/x-python",
   "name": "python",
   "nbconvert_exporter": "python",
   "pygments_lexer": "ipython3",
   "version": "3.7.4"
  }
 },
 "nbformat": 4,
 "nbformat_minor": 2
}
